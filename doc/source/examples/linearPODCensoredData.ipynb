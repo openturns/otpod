{
 "cells": [
  {
   "cell_type": "markdown",
   "metadata": {},
   "source": [
    "# Linear model POD with censored data"
   ]
  },
  {
   "cell_type": "code",
   "execution_count": 1,
   "metadata": {
    "collapsed": true
   },
   "outputs": [],
   "source": [
    "# import relevant module\n",
    "import openturns as ot\n",
    "import otpod\n",
    "# enable display figure in notebook\n",
    "try:\n",
    "    %matplotlib inline\n",
    "except:\n",
    "    pass"
   ]
  },
  {
   "cell_type": "markdown",
   "metadata": {},
   "source": [
    "## Generate data"
   ]
  },
  {
   "cell_type": "code",
   "execution_count": 2,
   "metadata": {
    "collapsed": false
   },
   "outputs": [],
   "source": [
    "N = 100\n",
    "ot.RandomGenerator.SetSeed(123456)\n",
    "defectDist = ot.Uniform(0.1, 0.6)\n",
    "# normal epsilon distribution\n",
    "epsilon = ot.Normal(0, 1.9)\n",
    "defects = defectDist.getSample(N)\n",
    "signalsInvBoxCox = defects * 43. + epsilon.getSample(N) + 2.5\n",
    "# Inverse Box Cox transformation\n",
    "invBoxCox = ot.InverseBoxCoxTransform(0.3)\n",
    "signals = invBoxCox(signalsInvBoxCox)"
   ]
  },
  {
   "cell_type": "markdown",
   "metadata": {},
   "source": [
    "## Build POD using previous linear analysis"
   ]
  },
  {
   "cell_type": "code",
   "execution_count": 3,
   "metadata": {
    "collapsed": false
   },
   "outputs": [],
   "source": [
    "noiseThres = 60.\n",
    "saturationThres = 1700.\n",
    "\n",
    "# run the analysis with Gaussian hypothesis of the residuals (default case)\n",
    "analysis = otpod.UnivariateLinearModelAnalysis(defects, signals, noiseThres,\n",
    "                                               saturationThres, boxCox=True)"
   ]
  },
  {
   "cell_type": "code",
   "execution_count": 4,
   "metadata": {
    "collapsed": false
   },
   "outputs": [],
   "source": [
    "# signal detection threshold\n",
    "detection = 200.\n",
    "# Use the analysis to build the POD with Gaussian hypothesis\n",
    "# keyword arguments must be given\n",
    "PODGauss = otpod.UnivariateLinearModelPOD(analysis=analysis, detection=detection)\n",
    "PODGauss.run()"
   ]
  },
  {
   "cell_type": "markdown",
   "metadata": {},
   "source": [
    "## Build POD with Gaussian hypothesis"
   ]
  },
  {
   "cell_type": "code",
   "execution_count": 5,
   "metadata": {
    "collapsed": true
   },
   "outputs": [],
   "source": [
    "# The previous POD is equivalent to the following POD\n",
    "PODGauss = otpod.UnivariateLinearModelPOD(defects, signals, detection,\n",
    "                                          noiseThres, saturationThres,\n",
    "                                          resDistFact=ot.NormalFactory(),\n",
    "                                          boxCox=True)\n",
    "PODGauss.run()"
   ]
  },
  {
   "cell_type": "markdown",
   "metadata": {},
   "source": [
    "## Get the R2 value of the regression"
   ]
  },
  {
   "cell_type": "code",
   "execution_count": 6,
   "metadata": {
    "collapsed": false
   },
   "outputs": [
    {
     "name": "stdout",
     "output_type": "stream",
     "text": [
      "R2 : 0.861\n"
     ]
    }
   ],
   "source": [
    "print('R2 : {:0.3f}'.format(PODGauss.getR2()))"
   ]
  },
  {
   "cell_type": "markdown",
   "metadata": {},
   "source": [
    "## Compute detection size"
   ]
  },
  {
   "cell_type": "code",
   "execution_count": 7,
   "metadata": {
    "collapsed": false
   },
   "outputs": [
    {
     "name": "stdout",
     "output_type": "stream",
     "text": [
      "[a90 : 0.30373, a90/95 : 0.317848]\n"
     ]
    }
   ],
   "source": [
    "# Detection size at probability level 0.9\n",
    "# and confidence level 0.95\n",
    "print(PODGauss.computeDetectionSize(0.9, 0.95))"
   ]
  },
  {
   "cell_type": "markdown",
   "metadata": {},
   "source": [
    "## get POD Function"
   ]
  },
  {
   "cell_type": "code",
   "execution_count": 8,
   "metadata": {
    "collapsed": false
   },
   "outputs": [
    {
     "name": "stdout",
     "output_type": "stream",
     "text": [
      "POD : 0.887\n",
      "POD at level 0.95 : 0.830\n"
     ]
    }
   ],
   "source": [
    "# get the POD model\n",
    "PODmodel = PODGauss.getPODModel()\n",
    "# get the POD model at the given confidence level\n",
    "PODmodelCl95 = PODGauss.getPODCLModel(0.95)\n",
    "\n",
    "# compute the probability of detection for a given defect value\n",
    "print('POD : {:0.3f}'.format(PODmodel([0.3])[0]))\n",
    "print('POD at level 0.95 : {:0.3f}'.format(PODmodelCl95([0.3])[0]))"
   ]
  },
  {
   "cell_type": "markdown",
   "metadata": {},
   "source": [
    "## Show POD graph"
   ]
  },
  {
   "cell_type": "markdown",
   "metadata": {},
   "source": [
    "### Mean POD and POD at confidence level with the detection size for a given probability level"
   ]
  },
  {
   "cell_type": "code",
   "execution_count": 9,
   "metadata": {
    "collapsed": false
   },
   "outputs": [
    {
     "name": "stderr",
     "output_type": "stream",
     "text": [
      "/home/dumas/anaconda2/lib/python2.7/site-packages/matplotlib/figure.py:397: UserWarning: matplotlib is currently using a non-GUI backend, so cannot show the figure\n",
      "  \"matplotlib is currently using a non-GUI backend, \"\n"
     ]
    },
    {
     "data": {
      "image/png": "[encoded data removed]",
      "text/plain": [
       "<matplotlib.figure.Figure at 0x7f97d6cdb6d0>"
      ]
     },
     "metadata": {},
     "output_type": "display_data"
    }
   ],
   "source": [
    "fig, ax = PODGauss.drawPOD(probabilityLevel=0.9, confidenceLevel=0.95,\n",
    "                      name='figure/PODGaussCensored.png')\n",
    "# The figure is saved in PODGauss.png\n",
    "fig.show()"
   ]
  },
  {
   "cell_type": "markdown",
   "metadata": {},
   "source": [
    "## Build POD only with the filtered data\n",
    "\n",
    "A static method is used to get the defects and signals only in the\n",
    "uncensored area."
   ]
  },
  {
   "cell_type": "code",
   "execution_count": 10,
   "metadata": {
    "collapsed": false
   },
   "outputs": [
    {
     "name": "stdout",
     "output_type": "stream",
     "text": [
      "\n",
      "        Sort inputSample and signals with respect to the censore thresholds.\n",
      "\n",
      "        Parameters\n",
      "        ----------\n",
      "        inputSample : 2-d sequence of float\n",
      "            Vector of the input sample.\n",
      "        signals : 2-d sequence of float\n",
      "            Vector of the signals, of dimension 1.\n",
      "        noiseThres : float\n",
      "            Value for low censored data. Default is None.\n",
      "        saturationThres : float\n",
      "            Value for high censored data. Default is None\n",
      "\n",
      "        Returns\n",
      "        -------\n",
      "        inputSampleUnc : 2-d sequence of float\n",
      "            Vector of the input sample in the uncensored area.\n",
      "        inputSampleNoise : 2-d sequence of float\n",
      "            Vector of the input sample in the noisy area.\n",
      "        inputSampleSat : 2-d sequence of float\n",
      "            Vector of the input sample in the saturation area.\n",
      "        signalsUnc : 2-d sequence of float\n",
      "            Vector of the signals in the uncensored area.\n",
      "\n",
      "        Notes\n",
      "        -----\n",
      "        The data are sorted in three different vectors whether they belong to\n",
      "        the noisy area, the uncensored area or the saturation area.\n",
      "        \n"
     ]
    }
   ],
   "source": [
    "print(otpod.DataHandling.filterCensoredData.__doc__)"
   ]
  },
  {
   "cell_type": "code",
   "execution_count": 11,
   "metadata": {
    "collapsed": false
   },
   "outputs": [],
   "source": [
    "result = otpod.DataHandling.filterCensoredData(defects, signals,\n",
    "                                               noiseThres, saturationThres)\n",
    "defectsFiltered = result[0]\n",
    "signalsFiltered = result[3]"
   ]
  },
  {
   "cell_type": "code",
   "execution_count": 12,
   "metadata": {
    "collapsed": false
   },
   "outputs": [],
   "source": [
    "PODfilteredData = otpod.UnivariateLinearModelPOD(defectsFiltered, signalsFiltered,\n",
    "                                                 detection,\n",
    "                                                 resDistFact=ot.NormalFactory(),\n",
    "                                                 boxCox=True)\n",
    "PODfilteredData.run()"
   ]
  },
  {
   "cell_type": "code",
   "execution_count": 13,
   "metadata": {
    "collapsed": false
   },
   "outputs": [
    {
     "name": "stdout",
     "output_type": "stream",
     "text": [
      "[a90 : 0.295976, a90/95 : 0.310948]\n"
     ]
    }
   ],
   "source": [
    "# Detection size at probability level 0.9\n",
    "# and confidence level 0.95\n",
    "print(PODfilteredData.computeDetectionSize(0.9, 0.95))"
   ]
  },
  {
   "cell_type": "code",
   "execution_count": 14,
   "metadata": {
    "collapsed": false
   },
   "outputs": [
    {
     "data": {
      "image/png": "[encoded data removed]",
      "text/plain": [
       "<matplotlib.figure.Figure at 0x7f97d5faccd0>"
      ]
     },
     "metadata": {},
     "output_type": "display_data"
    }
   ],
   "source": [
    "fig, ax = PODfilteredData.drawPOD(probabilityLevel=0.9, confidenceLevel=0.95,\n",
    "                      name='figure/PODGaussFiltered.png')\n",
    "# The figure is saved in PODGauss.png\n",
    "fig.show()"
   ]
  },
  {
   "cell_type": "code",
   "execution_count": null,
   "metadata": {
    "collapsed": true
   },
   "outputs": [],
   "source": []
  }
 ],
 "metadata": {
  "anaconda-cloud": {},
  "kernelspec": {
   "display_name": "Python [Root]",
   "language": "python",
   "name": "Python [Root]"
  },
  "language_info": {
   "codemirror_mode": {
    "name": "ipython",
    "version": 2
   },
   "file_extension": ".py",
   "mimetype": "text/x-python",
   "name": "python",
   "nbconvert_exporter": "python",
   "pygments_lexer": "ipython2",
   "version": "2.7.12"
  }
 },
 "nbformat": 4,
 "nbformat_minor": 0
}
